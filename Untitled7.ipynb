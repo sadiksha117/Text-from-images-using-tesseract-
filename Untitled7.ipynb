{
  "cells": [
    {
      "cell_type": "code",
      "execution_count": 6,
      "metadata": {
        "id": "B2Wt4zp-yXLe"
      },
      "outputs": [
        {
          "name": "stdout",
          "output_type": "stream",
          "text": [
            "Requirement already satisfied: opencv-python in c:\\users\\sadik\\appdata\\local\\programs\\python\\python312\\lib\\site-packages (4.10.0.84)Note: you may need to restart the kernel to use updated packages.\n",
            "\n",
            "Requirement already satisfied: numpy>=1.21.2 in c:\\users\\sadik\\appdata\\local\\programs\\python\\python312\\lib\\site-packages (from opencv-python) (1.26.3)\n"
          ]
        }
      ],
      "source": [
        "%pip install opencv-python\n"
      ]
    },
    {
      "cell_type": "code",
      "execution_count": 12,
      "metadata": {},
      "outputs": [],
      "source": [
        "import os # To import test image files\n",
        "import cv2 # To work with opencv images\n",
        "from PIL import Image # Image submodule to work with pillow images\n",
        "import pytesseract as pt # pytesseract module"
      ]
    },
    {
      "cell_type": "code",
      "execution_count": 18,
      "metadata": {},
      "outputs": [
        {
          "name": "stdout",
          "output_type": "stream",
          "text": [
            "abc-text.jpg\n",
            "bound-text-1.jpg\n",
            "bound-text-2.jpg\n",
            "contact-1.jpg\n",
            "hello-text.jpg\n",
            "hindi-news-1.jpg\n",
            "hindi-news-2.jpg\n",
            "hindi-text-1.jpg\n",
            "hindi-text-2.jpg\n",
            "image-paths.txt\n",
            "jap-text-1.png\n",
            "jap-text-2.png\n",
            "letter-1.png\n",
            "magazine-1.jpg\n",
            "news-1.png\n",
            "news-2.jpg\n",
            "portu-text-1.jpg\n",
            "portu-text-2.jpg\n",
            "selfie-circle.jpg\n",
            "sin-text-1.gif\n",
            "sin-text-2.gif\n",
            "span-text-1.png\n",
            "tam-text-1.png\n"
          ]
        }
      ],
      "source": [
        "test_img_path = \"C:/Users/sadik/OneDrive/Desktop/tesseract/test images\"\n",
        "create_path = lambda f : os.path.join(test_img_path, f)\n",
        "\n",
        "test_image_files = os.listdir(test_img_path)\n",
        "\n",
        "for f in test_image_files:\n",
        "    print(f)"
      ]
    },
    {
      "cell_type": "code",
      "execution_count": 24,
      "metadata": {},
      "outputs": [],
      "source": [
        "def show_image(img_path,size=(500,500)):\n",
        "    image= cv2.imread(img_path)\n",
        "    image=cv2.resize(image,size)\n",
        "    \n",
        "    cv2.imshow(\"IMAGE\",image)\n",
        "    cv2.waitKey(0)\n",
        "    cv2.destroyALLwindows()"
      ]
    },
    {
      "cell_type": "markdown",
      "metadata": {},
      "source": [
        "# optional: only if you haven't configured PATH"
      ]
    },
    {
      "cell_type": "code",
      "execution_count": 20,
      "metadata": {},
      "outputs": [],
      "source": [
        "pt.pytesseract.tesseract_cmd = r\"C:\\Users\\sadik\\OneDrive\\Desktop\\tesseract\\tesseract.exe\""
      ]
    },
    {
      "cell_type": "code",
      "execution_count": 21,
      "metadata": {},
      "outputs": [
        {
          "name": "stdout",
          "output_type": "stream",
          "text": [
            "afr\n",
            "amh\n",
            "ara\n",
            "asm\n",
            "aze\n",
            "aze_cyrl\n",
            "bel\n",
            "ben\n",
            "bod\n",
            "bos\n",
            "bre\n",
            "bul\n",
            "cat\n",
            "ceb\n",
            "ces\n",
            "chi_sim\n",
            "chi_sim_vert\n",
            "chi_tra\n",
            "chi_tra_vert\n",
            "chr\n",
            "cos\n",
            "cym\n",
            "dan\n",
            "deu\n",
            "div\n",
            "dzo\n",
            "ell\n",
            "eng\n",
            "enm\n",
            "epo\n",
            "equ\n",
            "est\n",
            "eus\n",
            "fao\n",
            "fas\n",
            "fil\n",
            "fin\n",
            "fra\n",
            "frk\n",
            "frm\n",
            "fry\n",
            "gla\n",
            "gle\n",
            "glg\n",
            "grc\n",
            "guj\n",
            "hat\n",
            "heb\n",
            "hin\n",
            "hrv\n",
            "hun\n",
            "hye\n",
            "iku\n",
            "ind\n",
            "isl\n",
            "ita\n",
            "ita_old\n",
            "jav\n",
            "jpn\n",
            "jpn_vert\n",
            "kan\n",
            "kat\n",
            "kat_old\n",
            "kaz\n",
            "khm\n",
            "kir\n",
            "kmr\n",
            "kor\n",
            "lao\n",
            "lat\n",
            "lav\n",
            "lit\n",
            "ltz\n",
            "mal\n",
            "mar\n",
            "mkd\n",
            "mlt\n",
            "mon\n",
            "mri\n",
            "msa\n",
            "mya\n",
            "nep\n",
            "nld\n",
            "nor\n",
            "oci\n",
            "ori\n",
            "osd\n",
            "pan\n",
            "pol\n",
            "por\n",
            "pus\n",
            "que\n",
            "ron\n",
            "rus\n",
            "san\n",
            "sin\n",
            "slk\n",
            "slv\n",
            "snd\n",
            "spa\n",
            "spa_old\n",
            "sqi\n",
            "srp\n",
            "srp_latn\n",
            "sun\n",
            "swa\n",
            "swe\n",
            "syr\n",
            "tam\n",
            "tat\n",
            "tel\n",
            "tgk\n",
            "tha\n",
            "tir\n",
            "ton\n",
            "tur\n",
            "uig\n",
            "ukr\n",
            "urd\n",
            "uzb\n",
            "uzb_cyrl\n",
            "vie\n",
            "yid\n",
            "yor\n"
          ]
        }
      ],
      "source": [
        "# using cmd: tesseract --list-langs = this helps to know about curreent languages in tesseract\n",
        "avb_langs = pt.get_languages(config='')\n",
        "\n",
        "for lang in avb_langs:\n",
        "    print(lang)"
      ]
    },
    {
      "cell_type": "code",
      "execution_count": 26,
      "metadata": {},
      "outputs": [
        {
          "name": "stdout",
          "output_type": "stream",
          "text": [
            "WEAK prope\n",
            "REVENGE.\n",
            "STRONG pEoPLE\n",
            "FORGIVE.\n",
            "INTELLIGENT propLe\n",
            "IGNORE.\n",
            "\n",
            "\n"
          ]
        },
        {
          "ename": "AttributeError",
          "evalue": "module 'cv2' has no attribute 'destroyALLwindows'",
          "output_type": "error",
          "traceback": [
            "\u001b[1;31m---------------------------------------------------------------------------\u001b[0m",
            "\u001b[1;31mAttributeError\u001b[0m                            Traceback (most recent call last)",
            "Cell \u001b[1;32mIn[26], line 9\u001b[0m\n\u001b[0;32m      6\u001b[0m text\u001b[38;5;241m=\u001b[39m pt\u001b[38;5;241m.\u001b[39mimage_to_string(image)\n\u001b[0;32m      8\u001b[0m \u001b[38;5;28mprint\u001b[39m (text)\n\u001b[1;32m----> 9\u001b[0m \u001b[43mshow_image\u001b[49m\u001b[43m(\u001b[49m\u001b[43mpath\u001b[49m\u001b[43m)\u001b[49m\n",
            "Cell \u001b[1;32mIn[24], line 7\u001b[0m, in \u001b[0;36mshow_image\u001b[1;34m(img_path, size)\u001b[0m\n\u001b[0;32m      5\u001b[0m cv2\u001b[38;5;241m.\u001b[39mimshow(\u001b[38;5;124m\"\u001b[39m\u001b[38;5;124mIMAGE\u001b[39m\u001b[38;5;124m\"\u001b[39m,image)\n\u001b[0;32m      6\u001b[0m cv2\u001b[38;5;241m.\u001b[39mwaitKey(\u001b[38;5;241m0\u001b[39m)\n\u001b[1;32m----> 7\u001b[0m \u001b[43mcv2\u001b[49m\u001b[38;5;241;43m.\u001b[39;49m\u001b[43mdestroyALLwindows\u001b[49m()\n",
            "\u001b[1;31mAttributeError\u001b[0m: module 'cv2' has no attribute 'destroyALLwindows'"
          ]
        }
      ],
      "source": [
        "#now to extract text from image\n",
        "image_path=test_image_files[2] #taking 3rd image \n",
        "path=create_path(image_path)#creating real path\n",
        "\n",
        "image=Image.open(path)\n",
        "text= pt.image_to_string(image)\n",
        "\n",
        "print (text)\n",
        "show_image(path)"
      ]
    },
    {
      "cell_type": "code",
      "execution_count": 28,
      "metadata": {},
      "outputs": [
        {
          "name": "stdout",
          "output_type": "stream",
          "text": [
            "Em novembro de 2016, o Ministro da Saúde russo confirmou que\n",
            "todos os indivíduos infectados poderiam ser testados em março;\n",
            "assim como seus familiares e amigos, eles podem fazer teste clínico\n",
            "em uma unidade cirúrgica do hospital da cidade em que são\n",
            "colocados, caso necessário. Também foi anunciado no mesmo dia\n",
            "que o Ministério do Trabalho revelou que as autoridades russas\n",
            "estão trabalhando em conjunto visando reduzir o número de mortes\n",
            "causadas pelas epidemias. A agência informou que a Agência\n",
            "Nacional de Vigilância Sanitária Russa (Anvisa) começou a\n",
            "monitorar a pandemia através de máscaras faciais nos hospitais.\n",
            "\n"
          ]
        },
        {
          "ename": "AttributeError",
          "evalue": "module 'cv2' has no attribute 'destroyALLwindows'",
          "output_type": "error",
          "traceback": [
            "\u001b[1;31m---------------------------------------------------------------------------\u001b[0m",
            "\u001b[1;31mAttributeError\u001b[0m                            Traceback (most recent call last)",
            "Cell \u001b[1;32mIn[28], line 9\u001b[0m\n\u001b[0;32m      6\u001b[0m text\u001b[38;5;241m=\u001b[39mpt\u001b[38;5;241m.\u001b[39mimage_to_string (image,lang\u001b[38;5;241m=\u001b[39m\u001b[38;5;124m'\u001b[39m\u001b[38;5;124mpor\u001b[39m\u001b[38;5;124m'\u001b[39m)\u001b[38;5;66;03m# esari explictly define kun language ho bcause by default only english is identified.\u001b[39;00m\n\u001b[0;32m      8\u001b[0m \u001b[38;5;28mprint\u001b[39m(text)\n\u001b[1;32m----> 9\u001b[0m \u001b[43mshow_image\u001b[49m\u001b[43m(\u001b[49m\u001b[43mpath\u001b[49m\u001b[43m)\u001b[49m\n",
            "Cell \u001b[1;32mIn[24], line 7\u001b[0m, in \u001b[0;36mshow_image\u001b[1;34m(img_path, size)\u001b[0m\n\u001b[0;32m      5\u001b[0m cv2\u001b[38;5;241m.\u001b[39mimshow(\u001b[38;5;124m\"\u001b[39m\u001b[38;5;124mIMAGE\u001b[39m\u001b[38;5;124m\"\u001b[39m,image)\n\u001b[0;32m      6\u001b[0m cv2\u001b[38;5;241m.\u001b[39mwaitKey(\u001b[38;5;241m0\u001b[39m)\n\u001b[1;32m----> 7\u001b[0m \u001b[43mcv2\u001b[49m\u001b[38;5;241;43m.\u001b[39;49m\u001b[43mdestroyALLwindows\u001b[49m()\n",
            "\u001b[1;31mAttributeError\u001b[0m: module 'cv2' has no attribute 'destroyALLwindows'"
          ]
        }
      ],
      "source": [
        "#now we extract text from image specifying a language \n",
        "\n",
        "path= create_path(\"C:/Users/sadik/OneDrive/Desktop/tesseract/test images/portu-text-2.jpg\")\n",
        "\n",
        "image= Image.open(path)\n",
        "text=pt.image_to_string (image,lang='por')# esari explictly define kun language ho bcause by default only english is identified.\n",
        "\n",
        "print(text)\n",
        "show_image(path)"
      ]
    },
    {
      "cell_type": "code",
      "execution_count": 36,
      "metadata": {},
      "outputs": [
        {
          "ename": "TesseractError",
          "evalue": "(1, 'Error in fopenReadStream: file not found Error in pixRead: image file not found: \"C:/Users/sadik/OneDrive/Desktop/tesseract/test images/jap-text-1.png\" Image file \"C:/Users/sadik/OneDrive/Desktop/tesseract/test images/jap-text-1.png\" cannot be read! Error during processing.')",
          "output_type": "error",
          "traceback": [
            "\u001b[1;31m---------------------------------------------------------------------------\u001b[0m",
            "\u001b[1;31mTesseractError\u001b[0m                            Traceback (most recent call last)",
            "Cell \u001b[1;32mIn[36], line 12\u001b[0m\n\u001b[0;32m      8\u001b[0m     \u001b[38;5;28;01mreturn\u001b[39;00m [line\u001b[38;5;241m.\u001b[39mstrip() \u001b[38;5;28;01mfor\u001b[39;00m line \u001b[38;5;129;01min\u001b[39;00m lines \u001b[38;5;28;01mif\u001b[39;00m line\u001b[38;5;241m.\u001b[39mstrip()]\n\u001b[0;32m     10\u001b[0m image_paths \u001b[38;5;241m=\u001b[39m read_image_paths(img_name_txt_file)\n\u001b[1;32m---> 12\u001b[0m text\u001b[38;5;241m=\u001b[39m\u001b[43mpt\u001b[49m\u001b[38;5;241;43m.\u001b[39;49m\u001b[43mimage_to_string\u001b[49m\u001b[43m(\u001b[49m\u001b[43mimg_name_txt_file\u001b[49m\u001b[43m,\u001b[49m\u001b[43mlang\u001b[49m\u001b[38;5;241;43m=\u001b[39;49m\u001b[38;5;124;43m'\u001b[39;49m\u001b[38;5;124;43mjpn\u001b[39;49m\u001b[38;5;124;43m'\u001b[39;49m\u001b[43m)\u001b[49m\n\u001b[0;32m     13\u001b[0m \u001b[38;5;28mprint\u001b[39m(text)\n",
            "File \u001b[1;32mc:\\Users\\sadik\\AppData\\Local\\Programs\\Python\\Python312\\Lib\\site-packages\\pytesseract\\pytesseract.py:423\u001b[0m, in \u001b[0;36mimage_to_string\u001b[1;34m(image, lang, config, nice, output_type, timeout)\u001b[0m\n\u001b[0;32m    418\u001b[0m \u001b[38;5;250m\u001b[39m\u001b[38;5;124;03m\"\"\"\u001b[39;00m\n\u001b[0;32m    419\u001b[0m \u001b[38;5;124;03mReturns the result of a Tesseract OCR run on the provided image to string\u001b[39;00m\n\u001b[0;32m    420\u001b[0m \u001b[38;5;124;03m\"\"\"\u001b[39;00m\n\u001b[0;32m    421\u001b[0m args \u001b[38;5;241m=\u001b[39m [image, \u001b[38;5;124m'\u001b[39m\u001b[38;5;124mtxt\u001b[39m\u001b[38;5;124m'\u001b[39m, lang, config, nice, timeout]\n\u001b[1;32m--> 423\u001b[0m \u001b[38;5;28;01mreturn\u001b[39;00m \u001b[43m{\u001b[49m\n\u001b[0;32m    424\u001b[0m \u001b[43m    \u001b[49m\u001b[43mOutput\u001b[49m\u001b[38;5;241;43m.\u001b[39;49m\u001b[43mBYTES\u001b[49m\u001b[43m:\u001b[49m\u001b[43m \u001b[49m\u001b[38;5;28;43;01mlambda\u001b[39;49;00m\u001b[43m:\u001b[49m\u001b[43m \u001b[49m\u001b[43mrun_and_get_output\u001b[49m\u001b[43m(\u001b[49m\u001b[38;5;241;43m*\u001b[39;49m\u001b[43m(\u001b[49m\u001b[43margs\u001b[49m\u001b[43m \u001b[49m\u001b[38;5;241;43m+\u001b[39;49m\u001b[43m \u001b[49m\u001b[43m[\u001b[49m\u001b[38;5;28;43;01mTrue\u001b[39;49;00m\u001b[43m]\u001b[49m\u001b[43m)\u001b[49m\u001b[43m)\u001b[49m\u001b[43m,\u001b[49m\n\u001b[0;32m    425\u001b[0m \u001b[43m    \u001b[49m\u001b[43mOutput\u001b[49m\u001b[38;5;241;43m.\u001b[39;49m\u001b[43mDICT\u001b[49m\u001b[43m:\u001b[49m\u001b[43m \u001b[49m\u001b[38;5;28;43;01mlambda\u001b[39;49;00m\u001b[43m:\u001b[49m\u001b[43m \u001b[49m\u001b[43m{\u001b[49m\u001b[38;5;124;43m'\u001b[39;49m\u001b[38;5;124;43mtext\u001b[39;49m\u001b[38;5;124;43m'\u001b[39;49m\u001b[43m:\u001b[49m\u001b[43m \u001b[49m\u001b[43mrun_and_get_output\u001b[49m\u001b[43m(\u001b[49m\u001b[38;5;241;43m*\u001b[39;49m\u001b[43margs\u001b[49m\u001b[43m)\u001b[49m\u001b[43m}\u001b[49m\u001b[43m,\u001b[49m\n\u001b[0;32m    426\u001b[0m \u001b[43m    \u001b[49m\u001b[43mOutput\u001b[49m\u001b[38;5;241;43m.\u001b[39;49m\u001b[43mSTRING\u001b[49m\u001b[43m:\u001b[49m\u001b[43m \u001b[49m\u001b[38;5;28;43;01mlambda\u001b[39;49;00m\u001b[43m:\u001b[49m\u001b[43m \u001b[49m\u001b[43mrun_and_get_output\u001b[49m\u001b[43m(\u001b[49m\u001b[38;5;241;43m*\u001b[39;49m\u001b[43margs\u001b[49m\u001b[43m)\u001b[49m\u001b[43m,\u001b[49m\n\u001b[0;32m    427\u001b[0m \u001b[43m\u001b[49m\u001b[43m}\u001b[49m\u001b[43m[\u001b[49m\u001b[43moutput_type\u001b[49m\u001b[43m]\u001b[49m\u001b[43m(\u001b[49m\u001b[43m)\u001b[49m\n",
            "File \u001b[1;32mc:\\Users\\sadik\\AppData\\Local\\Programs\\Python\\Python312\\Lib\\site-packages\\pytesseract\\pytesseract.py:426\u001b[0m, in \u001b[0;36mimage_to_string.<locals>.<lambda>\u001b[1;34m()\u001b[0m\n\u001b[0;32m    418\u001b[0m \u001b[38;5;250m\u001b[39m\u001b[38;5;124;03m\"\"\"\u001b[39;00m\n\u001b[0;32m    419\u001b[0m \u001b[38;5;124;03mReturns the result of a Tesseract OCR run on the provided image to string\u001b[39;00m\n\u001b[0;32m    420\u001b[0m \u001b[38;5;124;03m\"\"\"\u001b[39;00m\n\u001b[0;32m    421\u001b[0m args \u001b[38;5;241m=\u001b[39m [image, \u001b[38;5;124m'\u001b[39m\u001b[38;5;124mtxt\u001b[39m\u001b[38;5;124m'\u001b[39m, lang, config, nice, timeout]\n\u001b[0;32m    423\u001b[0m \u001b[38;5;28;01mreturn\u001b[39;00m {\n\u001b[0;32m    424\u001b[0m     Output\u001b[38;5;241m.\u001b[39mBYTES: \u001b[38;5;28;01mlambda\u001b[39;00m: run_and_get_output(\u001b[38;5;241m*\u001b[39m(args \u001b[38;5;241m+\u001b[39m [\u001b[38;5;28;01mTrue\u001b[39;00m])),\n\u001b[0;32m    425\u001b[0m     Output\u001b[38;5;241m.\u001b[39mDICT: \u001b[38;5;28;01mlambda\u001b[39;00m: {\u001b[38;5;124m'\u001b[39m\u001b[38;5;124mtext\u001b[39m\u001b[38;5;124m'\u001b[39m: run_and_get_output(\u001b[38;5;241m*\u001b[39margs)},\n\u001b[1;32m--> 426\u001b[0m     Output\u001b[38;5;241m.\u001b[39mSTRING: \u001b[38;5;28;01mlambda\u001b[39;00m: \u001b[43mrun_and_get_output\u001b[49m\u001b[43m(\u001b[49m\u001b[38;5;241;43m*\u001b[39;49m\u001b[43margs\u001b[49m\u001b[43m)\u001b[49m,\n\u001b[0;32m    427\u001b[0m }[output_type]()\n",
            "File \u001b[1;32mc:\\Users\\sadik\\AppData\\Local\\Programs\\Python\\Python312\\Lib\\site-packages\\pytesseract\\pytesseract.py:288\u001b[0m, in \u001b[0;36mrun_and_get_output\u001b[1;34m(image, extension, lang, config, nice, timeout, return_bytes)\u001b[0m\n\u001b[0;32m    277\u001b[0m \u001b[38;5;28;01mwith\u001b[39;00m save(image) \u001b[38;5;28;01mas\u001b[39;00m (temp_name, input_filename):\n\u001b[0;32m    278\u001b[0m     kwargs \u001b[38;5;241m=\u001b[39m {\n\u001b[0;32m    279\u001b[0m         \u001b[38;5;124m'\u001b[39m\u001b[38;5;124minput_filename\u001b[39m\u001b[38;5;124m'\u001b[39m: input_filename,\n\u001b[0;32m    280\u001b[0m         \u001b[38;5;124m'\u001b[39m\u001b[38;5;124moutput_filename_base\u001b[39m\u001b[38;5;124m'\u001b[39m: temp_name,\n\u001b[1;32m   (...)\u001b[0m\n\u001b[0;32m    285\u001b[0m         \u001b[38;5;124m'\u001b[39m\u001b[38;5;124mtimeout\u001b[39m\u001b[38;5;124m'\u001b[39m: timeout,\n\u001b[0;32m    286\u001b[0m     }\n\u001b[1;32m--> 288\u001b[0m     \u001b[43mrun_tesseract\u001b[49m\u001b[43m(\u001b[49m\u001b[38;5;241;43m*\u001b[39;49m\u001b[38;5;241;43m*\u001b[39;49m\u001b[43mkwargs\u001b[49m\u001b[43m)\u001b[49m\n\u001b[0;32m    289\u001b[0m     filename \u001b[38;5;241m=\u001b[39m \u001b[38;5;124mf\u001b[39m\u001b[38;5;124m\"\u001b[39m\u001b[38;5;132;01m{\u001b[39;00mkwargs[\u001b[38;5;124m'\u001b[39m\u001b[38;5;124moutput_filename_base\u001b[39m\u001b[38;5;124m'\u001b[39m]\u001b[38;5;132;01m}\u001b[39;00m\u001b[38;5;132;01m{\u001b[39;00mextsep\u001b[38;5;132;01m}\u001b[39;00m\u001b[38;5;132;01m{\u001b[39;00mextension\u001b[38;5;132;01m}\u001b[39;00m\u001b[38;5;124m\"\u001b[39m\n\u001b[0;32m    290\u001b[0m     \u001b[38;5;28;01mwith\u001b[39;00m \u001b[38;5;28mopen\u001b[39m(filename, \u001b[38;5;124m'\u001b[39m\u001b[38;5;124mrb\u001b[39m\u001b[38;5;124m'\u001b[39m) \u001b[38;5;28;01mas\u001b[39;00m output_file:\n",
            "File \u001b[1;32mc:\\Users\\sadik\\AppData\\Local\\Programs\\Python\\Python312\\Lib\\site-packages\\pytesseract\\pytesseract.py:264\u001b[0m, in \u001b[0;36mrun_tesseract\u001b[1;34m(input_filename, output_filename_base, extension, lang, config, nice, timeout)\u001b[0m\n\u001b[0;32m    262\u001b[0m \u001b[38;5;28;01mwith\u001b[39;00m timeout_manager(proc, timeout) \u001b[38;5;28;01mas\u001b[39;00m error_string:\n\u001b[0;32m    263\u001b[0m     \u001b[38;5;28;01mif\u001b[39;00m proc\u001b[38;5;241m.\u001b[39mreturncode:\n\u001b[1;32m--> 264\u001b[0m         \u001b[38;5;28;01mraise\u001b[39;00m TesseractError(proc\u001b[38;5;241m.\u001b[39mreturncode, get_errors(error_string))\n",
            "\u001b[1;31mTesseractError\u001b[0m: (1, 'Error in fopenReadStream: file not found Error in pixRead: image file not found: \"C:/Users/sadik/OneDrive/Desktop/tesseract/test images/jap-text-1.png\" Image file \"C:/Users/sadik/OneDrive/Desktop/tesseract/test images/jap-text-1.png\" cannot be read! Error during processing.')"
          ]
        }
      ],
      "source": [
        "#extracting text from multiple images at once\n",
        " \n",
        "img_name_txt_file=\"C:/Users/sadik/OneDrive/Desktop/tesseract/test images/image-paths.txt\"\n",
        "\n",
        "def read_image_paths(file_path):\n",
        "    with open(file_path, 'r') as file:\n",
        "        lines = file.readlines()\n",
        "    return [line.strip() for line in lines if line.strip()]\n",
        "\n",
        "image_paths = read_image_paths(img_name_txt_file)\n",
        "\n",
        "text=pt.image_to_string(img_name_txt_file,lang='jpn')\n",
        "print(text)"
      ]
    },
    {
      "cell_type": "code",
      "execution_count": 45,
      "metadata": {},
      "outputs": [
        {
          "name": "stdout",
          "output_type": "stream",
          "text": [
            "ar\n",
            "\n",
            "he\n",
            "\n",
            "DENTON d HON\n",
            "\n",
            "ISSUE NO.9.164\n",
            "Fs\n",
            "\n",
            "60\n",
            "\n",
            "MONDAY 22 FEBRUARY 2016 ‘WWW.INDEPENDENT.CO.UK\n",
            "\n",
            "The hypocrisy of ‘no platform’ fury voces»\n",
            "\n",
            "Robert Fisk Matthew Norman\n",
            "‘The Raqqa teacher ‘You may not like her, but\n",
            "evicted by her students | the world needs Hillary\n",
            "VoIcEs P.20 VOICES .20\n",
            "= ; Virginia Ironside Ben Chu 4\n",
            "= Group therapy is nothing | Help to Buy has barely i e\n",
            "\n",
            "Our failed Utopias to be frightened of helped at all Lena Dunham at 30\n",
            "Better worlds gone wrong sicreno DILEMMAS P.37 BUSINESS P53 On life after ‘Girls’ arrspao\n",
            "\n",
            "iN\n",
            "\n",
            "‘After days of speculation, Boris Johnson announced yesterday that he will be ‘advocating Vote Leave ... because I want a better deal’ gpa\n",
            "\n",
            "Out for himse\n",
            "\n",
            "Boris Johnson confirms he will back Brexit — putting him in line for No 10 if UK votes to leave\n",
            "Downing Street fears up to 150 Tory MPs could defy PM by campaigning against his EU deal\n",
            "\n",
            "country out ofthe European Vote Leave”.Butsignificantly istovotetogo;because allEU of the “leave” campaign and\n",
            "\n",
            "Unionbybecomingthemost he seemed to suggest that a_ history shows that they only _ the front-runner to become\n",
            "\n",
            "significant Tory todeclare in “leave” vote might not nec- really listen toa population _ prime minister should be the\n",
            "\n",
            "favour of Brexit. essarily be final and could when it says no,\"he said. “I country vote Out in June’s\n",
            "Mm “The London Mayor said instead result ina“new rela: wouldliketobeinareformed referendum.\n",
            "\n",
            "Boris Johnson has gambled yesterday that after a“huge tionship” betweenthe UKand  EUandthat’smyhope,anEU While Mr Cameron has\n",
            "\n",
            "his long-standing ambition amount ofheartache”he had _rest of Europe based upon that’s based on fundamental _insisted he would stay on\n",
            "\n",
            "OLIVER WRIGHT\n",
            "POLITICAL EDITOR\n",
            "\n",
            "to become Britain’s next made the “agonisingly diffi- “trade and co-operation”. treaty change. whatever the result, most\n",
            "\n",
            "prime minister on winning cult” decision to go against _“Thereisonlyonewaytoget_ Mr Johnson’s decision\n",
            "\n",
            "the referendum to pull the DavidCameronand“advocate thechangeweneed-andthat makes him the natural leader Continued on Ps >\n",
            "INSIDE: FULE RE a E\n",
            "\n",
            "\n"
          ]
        },
        {
          "ename": "AttributeError",
          "evalue": "module 'cv2' has no attribute 'destroyALLwindows'",
          "output_type": "error",
          "traceback": [
            "\u001b[1;31m---------------------------------------------------------------------------\u001b[0m",
            "\u001b[1;31mAttributeError\u001b[0m                            Traceback (most recent call last)",
            "Cell \u001b[1;32mIn[45], line 13\u001b[0m\n\u001b[0;32m     10\u001b[0m     \u001b[38;5;28mprint\u001b[39m(\u001b[38;5;124m\"\u001b[39m\u001b[38;5;124m[TIMEOUT ERROR]\u001b[39m\u001b[38;5;124m\"\u001b[39m)\n\u001b[0;32m     12\u001b[0m \u001b[38;5;28mprint\u001b[39m(text)\n\u001b[1;32m---> 13\u001b[0m \u001b[43mshow_image\u001b[49m\u001b[43m(\u001b[49m\u001b[43mpath\u001b[49m\u001b[43m)\u001b[49m\n",
            "Cell \u001b[1;32mIn[24], line 7\u001b[0m, in \u001b[0;36mshow_image\u001b[1;34m(img_path, size)\u001b[0m\n\u001b[0;32m      5\u001b[0m cv2\u001b[38;5;241m.\u001b[39mimshow(\u001b[38;5;124m\"\u001b[39m\u001b[38;5;124mIMAGE\u001b[39m\u001b[38;5;124m\"\u001b[39m,image)\n\u001b[0;32m      6\u001b[0m cv2\u001b[38;5;241m.\u001b[39mwaitKey(\u001b[38;5;241m0\u001b[39m)\n\u001b[1;32m----> 7\u001b[0m \u001b[43mcv2\u001b[49m\u001b[38;5;241;43m.\u001b[39;49m\u001b[43mdestroyALLwindows\u001b[49m()\n",
            "\u001b[1;31mAttributeError\u001b[0m: module 'cv2' has no attribute 'destroyALLwindows'"
          ]
        }
      ],
      "source": [
        "#Extract text from an image : Timeout extraction = certain time sama bhayena bhane  error\n",
        "path = create_path(\"news-2.jpg\")\n",
        "\n",
        "image = Image.open(path)\n",
        "text = 'NO TEXT TO BE APPEARED'\n",
        "\n",
        "try:\n",
        "    text = pt.image_to_string(image, lang='eng', timeout=10)\n",
        "except RuntimeError as timeout_error:\n",
        "    print(\"[TIMEOUT ERROR]\")\n",
        "\n",
        "print(text)\n",
        "show_image(path)"
      ]
    },
    {
      "cell_type": "code",
      "execution_count": 49,
      "metadata": {},
      "outputs": [
        {
          "name": "stdout",
          "output_type": "stream",
          "text": [
            "1 68 466 160 527 0\n",
            "b 173 468 197 521 0\n",
            "e 198 455 222 525 0\n",
            "s 200 463 251 495 0\n",
            "t 246 466 278 506 0\n",
            "r 292 468 313 496 0\n",
            "e 310 468 335 493 0\n",
            "V 333 455 344 510 0\n",
            "ソ 343 468 356 496 0\n",
            "ト 474 468 483 505 0\n",
            "ラ 485 463 515 495 0\n",
            "ル 84 373 128 436 0\n",
            "% 132 394 188 437 0\n",
            "I 199 399 252 429 0\n",
            "o 226 365 252 441 0\n",
            "V 255 399 276 427 0\n",
            "I 279 399 288 436 0\n",
            "k 296 365 316 441 0\n",
            "ク 315 369 346 427 0\n",
            "7 358 393 510 496 0\n",
            "牙 177 328 243 367 0\n",
            "t 218 317 238 372 0\n",
            "i 237 317 251 372 0\n",
            "n 250 317 270 372 0\n",
            "4 269 317 288 372 0\n",
            "o 317 330 336 356 0\n",
            "v 338 330 360 358 0\n",
            "e 351 330 371 358 0\n",
            "r 361 330 406 357 0\n",
            "人 421 328 466 367 0\n",
            "0 84 259 227 356 0\n",
            "の 249 261 329 357 0\n",
            "S 343 256 388 288 0\n",
            "O 366 248 407 302 0\n",
            "の 406 260 447 291 0\n",
            "0 447 248 483 302 0\n",
            "の 483 261 517 288 0\n",
            "t 84 190 115 250 0\n",
            "h 84 190 164 250 0\n",
            "e 134 190 156 250 0\n",
            "s 178 187 234 219 0\n",
            "e 209 186 231 244 0\n",
            "t 229 190 268 229 0\n",
            "i 257 186 279 244 0\n",
            "s 270 186 458 244 0\n",
            "覆 312 172 354 254 0\n",
            "c 353 186 374 244 0\n",
            "t 373 186 402 244 0\n",
            "i 401 186 415 244 0\n",
            "o 414 186 436 244 0\n",
            "k 435 186 450 244 0\n",
            "o 476 186 497 245 0\n",
            "T 473 186 522 245 0\n",
            "t 78 121 208 182 0\n",
            "h 172 88 205 186 0\n",
            "i 210 123 218 160 0\n",
            "y 229 88 246 186 0\n",
            "g 224 92 276 150 0\n",
            "W 293 95 331 150 0\n",
            "ル 342 122 368 151 0\n",
            "s 382 118 436 151 0\n",
            "f 433 117 464 176 0\n",
            "f 459 117 490 176 0\n",
            "z 483 122 528 150 0\n",
            "r 507 106 520 180 0\n",
            ". 526 123 534 129 0\n",
            "i 402 3 404 13 0\n",
            "n 402 6 408 13 0\n",
            "g 409 3 416 13 0\n",
            "P 421 6 427 15 0\n",
            "i 428 6 430 12 0\n",
            "c 431 6 436 13 0\n",
            "t 437 6 441 14 0\n",
            "u 442 6 447 13 0\n",
            "r 449 6 453 13 0\n",
            "e 453 6 459 13 0\n",
            "s 460 6 465 13 0\n",
            "@ 469 5 480 15 0\n",
            "M 485 5 496 15 0\n",
            "a 498 5 511 13 0\n",
            "s 506 5 512 16 0\n",
            "t 512 5 520 16 0\n",
            "P 512 5 528 15 0\n",
            "h 528 5 536 16 0\n",
            "o 537 5 544 13 0\n",
            "t 544 5 550 16 0\n",
            "o 545 5 558 15 0\n",
            "s 559 5 564 13 0\n",
            ". 565 5 568 7 0\n",
            "c 569 5 575 13 0\n",
            "o 576 5 597 13 0\n",
            "\n"
          ]
        },
        {
          "ename": "AttributeError",
          "evalue": "module 'cv2' has no attribute 'destroyALLwindows'",
          "output_type": "error",
          "traceback": [
            "\u001b[1;31m---------------------------------------------------------------------------\u001b[0m",
            "\u001b[1;31mAttributeError\u001b[0m                            Traceback (most recent call last)",
            "Cell \u001b[1;32mIn[49], line 8\u001b[0m\n\u001b[0;32m      5\u001b[0m bound_reacts\u001b[38;5;241m=\u001b[39m pt\u001b[38;5;241m.\u001b[39mimage_to_boxes(image, lang\u001b[38;5;241m=\u001b[39m\u001b[38;5;124m'\u001b[39m\u001b[38;5;124mjpn\u001b[39m\u001b[38;5;124m'\u001b[39m)\n\u001b[0;32m      7\u001b[0m \u001b[38;5;28mprint\u001b[39m(bound_reacts)\u001b[38;5;66;03m# bound in rectangle so in output : letter xcoordinate ycoordinate width height \u001b[39;00m\n\u001b[1;32m----> 8\u001b[0m \u001b[43mshow_image\u001b[49m\u001b[43m(\u001b[49m\u001b[43mpath\u001b[49m\u001b[43m)\u001b[49m\n",
            "Cell \u001b[1;32mIn[24], line 7\u001b[0m, in \u001b[0;36mshow_image\u001b[1;34m(img_path, size)\u001b[0m\n\u001b[0;32m      5\u001b[0m cv2\u001b[38;5;241m.\u001b[39mimshow(\u001b[38;5;124m\"\u001b[39m\u001b[38;5;124mIMAGE\u001b[39m\u001b[38;5;124m\"\u001b[39m,image)\n\u001b[0;32m      6\u001b[0m cv2\u001b[38;5;241m.\u001b[39mwaitKey(\u001b[38;5;241m0\u001b[39m)\n\u001b[1;32m----> 7\u001b[0m \u001b[43mcv2\u001b[49m\u001b[38;5;241;43m.\u001b[39;49m\u001b[43mdestroyALLwindows\u001b[49m()\n",
            "\u001b[1;31mAttributeError\u001b[0m: module 'cv2' has no attribute 'destroyALLwindows'"
          ]
        }
      ],
      "source": [
        "#get bounding box estimates of an character\n",
        "path= create_path(\"C:/Users/sadik/OneDrive/Desktop/tesseract/test images/bound-text-1.jpg\")\n",
        "\n",
        "image=Image.open(path)\n",
        "bound_reacts= pt.image_to_boxes(image, lang='jpn') \n",
        "\n",
        "print(bound_reacts)# bound in rectangle so in output : letter xcoordinate ycoordinate width height \n",
        "show_image(path)"
      ]
    },
    {
      "cell_type": "code",
      "execution_count": 50,
      "metadata": {},
      "outputs": [],
      "source": [
        "img = cv2.imread(path)\n",
        "h, _, _ = img.shape\n",
        "\n",
        "for b in bound_reacts.splitlines():\n",
        "    b = b.strip().split(' ') #split the row \n",
        "    img = cv2.rectangle(img, (int(b[1]), h - int(b[2])), (int(b[3]), h - int(b[4])), (0, 255, 0), 2)\n",
        "\n",
        "cv2.imshow(\"CHARACTERIZED IMAGE\", img)\n",
        "cv2.waitKey(0)\n",
        "cv2.destroyAllWindows()"
      ]
    },
    {
      "cell_type": "code",
      "execution_count": 51,
      "metadata": {},
      "outputs": [
        {
          "name": "stdout",
          "output_type": "stream",
          "text": [
            "level\tpage_num\tblock_num\tpar_num\tline_num\tword_num\tleft\ttop\twidth\theight\tconf\ttext\n",
            "1\t1\t0\t0\t0\t0\t0\t0\t674\t674\t-1\t\n",
            "2\t1\t1\t0\t0\t0\t11\t129\t653\t406\t-1\t\n",
            "3\t1\t1\t1\t0\t0\t11\t129\t653\t406\t-1\t\n",
            "4\t1\t1\t1\t1\t0\t123\t129\t427\t66\t-1\t\n",
            "5\t1\t1\t1\t1\t1\t123\t129\t206\t59\t95.895525\tWEAK\n",
            "5\t1\t1\t1\t1\t2\t351\t159\t199\t36\t0.000000\tprope\n",
            "4\t1\t1\t1\t2\t0\t179\t214\t312\t49\t-1\t\n",
            "5\t1\t1\t1\t2\t1\t179\t214\t312\t49\t95.145825\tREVENGE.\n",
            "4\t1\t1\t1\t3\t0\t95\t264\t485\t67\t-1\t\n",
            "5\t1\t1\t1\t3\t1\t95\t264\t262\t60\t93.304194\tSTRONG\n",
            "5\t1\t1\t1\t3\t2\t382\t296\t198\t35\t49.721971\tpEoPLE\n",
            "4\t1\t1\t1\t4\t0\t190\t350\t290\t42\t-1\t\n",
            "5\t1\t1\t1\t4\t1\t190\t350\t290\t42\t95.874316\tFORGIVE.\n",
            "4\t1\t1\t1\t5\t0\t11\t401\t653\t66\t-1\t\n",
            "5\t1\t1\t1\t5\t1\t11\t401\t430\t59\t93.265572\tINTELLIGENT\n",
            "5\t1\t1\t1\t5\t2\t466\t433\t198\t34\t22.540650\tpropLe\n",
            "4\t1\t1\t1\t6\t0\t208\t485\t255\t50\t-1\t\n",
            "5\t1\t1\t1\t6\t1\t208\t485\t255\t50\t96.277846\tIGNORE.\n",
            "2\t1\t2\t0\t0\t0\t323\t647\t351\t27\t-1\t\n",
            "3\t1\t2\t1\t0\t0\t323\t647\t351\t27\t-1\t\n",
            "4\t1\t2\t1\t1\t0\t323\t647\t351\t27\t-1\t\n",
            "5\t1\t2\t1\t1\t1\t323\t647\t351\t27\t95.000000\t \n",
            "\n"
          ]
        },
        {
          "ename": "AttributeError",
          "evalue": "module 'cv2' has no attribute 'destroyALLwindows'",
          "output_type": "error",
          "traceback": [
            "\u001b[1;31m---------------------------------------------------------------------------\u001b[0m",
            "\u001b[1;31mAttributeError\u001b[0m                            Traceback (most recent call last)",
            "Cell \u001b[1;32mIn[51], line 10\u001b[0m\n\u001b[0;32m      7\u001b[0m text \u001b[38;5;241m=\u001b[39m pt\u001b[38;5;241m.\u001b[39mimage_to_data(image)\n\u001b[0;32m      9\u001b[0m \u001b[38;5;28mprint\u001b[39m(text)\n\u001b[1;32m---> 10\u001b[0m \u001b[43mshow_image\u001b[49m\u001b[43m(\u001b[49m\u001b[43mpath\u001b[49m\u001b[43m)\u001b[49m\n",
            "Cell \u001b[1;32mIn[24], line 7\u001b[0m, in \u001b[0;36mshow_image\u001b[1;34m(img_path, size)\u001b[0m\n\u001b[0;32m      5\u001b[0m cv2\u001b[38;5;241m.\u001b[39mimshow(\u001b[38;5;124m\"\u001b[39m\u001b[38;5;124mIMAGE\u001b[39m\u001b[38;5;124m\"\u001b[39m,image)\n\u001b[0;32m      6\u001b[0m cv2\u001b[38;5;241m.\u001b[39mwaitKey(\u001b[38;5;241m0\u001b[39m)\n\u001b[1;32m----> 7\u001b[0m \u001b[43mcv2\u001b[49m\u001b[38;5;241;43m.\u001b[39;49m\u001b[43mdestroyALLwindows\u001b[49m()\n",
            "\u001b[1;31mAttributeError\u001b[0m: module 'cv2' has no attribute 'destroyALLwindows'"
          ]
        }
      ],
      "source": [
        "#Get verbose data including boxes, confidences, line and page numbers\n",
        "\n",
        "image_path = test_image_files[2]\n",
        "path = create_path(image_path)\n",
        "\n",
        "image = Image.open(path)\n",
        "text = pt.image_to_data(image)\n",
        "\n",
        "print(text)\n",
        "show_image(path)"
      ]
    },
    {
      "cell_type": "code",
      "execution_count": 53,
      "metadata": {},
      "outputs": [
        {
          "name": "stdout",
          "output_type": "stream",
          "text": [
            "Page number: 0\n",
            "Orientation in degrees: 0\n",
            "Rotate: 0\n",
            "Orientation confidence: 0.00\n",
            "Script: Latin\n",
            "Script confidence: 2.00\n",
            "\n"
          ]
        }
      ],
      "source": [
        "#Get information about orientation and script detection\n",
        "image_path = \"C:/Users/sadik/OneDrive/Desktop/tesseract/test images/hindi-text-1.jpg\" # news-2.jpg hindi-news-1.jpg hindi-news-2.jpg hindi-text-1.jpg\n",
        "path = create_path(image_path)\n",
        "\n",
        "print(pt.image_to_osd(path, lang='hin'))"
      ]
    },
    {
      "cell_type": "code",
      "execution_count": 58,
      "metadata": {},
      "outputs": [],
      "source": [
        "#Convert in to different file formats (PDF, XML, HOCR)\n",
        "image_path = \"C:/Users/sadik/OneDrive/Desktop/tesseract/test images/news-2.jpg\"\n",
        "path = create_path(image_path)\n",
        "file_save_path = \"C:/Users/sadik/OneDrive/Desktop/tesseract/files\"\n"
      ]
    },
    {
      "cell_type": "code",
      "execution_count": 59,
      "metadata": {},
      "outputs": [],
      "source": [
        "pdf = pt.image_to_pdf_or_hocr(path, extension='pdf')\n",
        "file = open(os.path.join(file_save_path, \"pdf-content.pdf\"), 'w+b')# write mode +binary format\n",
        "file.write(pdf)\n",
        "file.close()\n"
      ]
    },
    {
      "cell_type": "code",
      "execution_count": 61,
      "metadata": {},
      "outputs": [],
      "source": [
        "\n",
        "# hocr: open standard of data representation for formatted text obtained from (OCR)\n",
        "hocr = pt.image_to_pdf_or_hocr(path, extension='hocr')\n",
        "\n",
        "file = open(os.path.join(file_save_path, \"hocr-content.html\"), 'w+b')\n",
        "file.write(hocr)\n",
        "file.close()\n"
      ]
    },
    {
      "cell_type": "code",
      "execution_count": 62,
      "metadata": {},
      "outputs": [],
      "source": [
        "\n",
        "xml = pt.image_to_alto_xml(path)\n",
        "\n",
        "file = open(os.path.join(file_save_path, \"xml-content.xml\"), 'w+b')\n",
        "file.write(xml)\n",
        "file.close()\n"
      ]
    },
    {
      "cell_type": "code",
      "execution_count": null,
      "metadata": {},
      "outputs": [],
      "source": []
    }
  ],
  "metadata": {
    "colab": {
      "provenance": []
    },
    "kernelspec": {
      "display_name": "Python 3",
      "name": "python3"
    },
    "language_info": {
      "codemirror_mode": {
        "name": "ipython",
        "version": 3
      },
      "file_extension": ".py",
      "mimetype": "text/x-python",
      "name": "python",
      "nbconvert_exporter": "python",
      "pygments_lexer": "ipython3",
      "version": "3.12.1"
    }
  },
  "nbformat": 4,
  "nbformat_minor": 0
}
